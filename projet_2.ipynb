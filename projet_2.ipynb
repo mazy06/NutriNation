{
 "cells": [
  {
   "cell_type": "code",
   "execution_count": 14,
   "id": "bae6b9fe",
   "metadata": {},
   "outputs": [],
   "source": [
    "Traitement et Analyse du dataset Open Food Facts"
   ]
  },
  {
   "cell_type": "code",
   "execution_count": 1,
   "id": "ab0f8862",
   "metadata": {},
   "outputs": [],
   "source": [
    "import warnings\n",
    "warnings.filterwarnings(\"ignore\")\n",
    "\n",
    "import pandas as pd\n",
    "\n",
    "import matplotlib.pyplot as plt\n",
    "import matplotlib.patches as mpatches\n",
    "import seaborn as sns\n",
    "import missingno as msno"
   ]
  },
  {
   "cell_type": "code",
   "execution_count": 2,
   "id": "ca224e22",
   "metadata": {},
   "outputs": [],
   "source": [
    "# importer fichier csv à traiter \n",
    "file = \"openfoodfacts_products_data.csv\"\n",
    "df = pd.read_csv(file, decimal = ',', sep='\\t', low_memory=False)"
   ]
  },
  {
   "cell_type": "code",
   "execution_count": null,
   "id": "4bc0d622",
   "metadata": {},
   "outputs": [],
   "source": [
    "#Visualisation des valeurs manquantes en utilisant matrix\n",
    "%matplotlib inline\n",
    "msno.matrix(df)\n",
    "gray_patch = mpatches.Patch(color='gray', label='PRESENT')\n",
    "white_patch = mpatches.Patch(color='white', label='ABSENT')\n",
    "plt.legend(handles=[gray_patch, white_patch], loc='upper left')"
   ]
  },
  {
   "cell_type": "code",
   "execution_count": null,
   "id": "442b925c",
   "metadata": {},
   "outputs": [],
   "source": [
    "df.head()"
   ]
  },
  {
   "cell_type": "code",
   "execution_count": null,
   "id": "60f6e028",
   "metadata": {},
   "outputs": [],
   "source": [
    "#modification des types pour faciliter l'imputation\n",
    "column_num = [\"trans-fat_100g\", \"cholesterol_100g\",\"carbohydrates_100g\", \"sugars_100g\", \"fiber_100g\", \"proteins_100g\", \"salt_100g\", \"sodium_100g\", \"nutrition-score-fr_100g\", \"nutrition-score-uk_100g\"]\n",
    "\n",
    "for col in column_num:\n",
    "    df[col] = pd.to_numeric(df[col])"
   ]
  },
  {
   "cell_type": "code",
   "execution_count": null,
   "id": "e0b5ee1d",
   "metadata": {},
   "outputs": [],
   "source": [
    "column_date = []\n"
   ]
  },
  {
   "cell_type": "code",
   "execution_count": null,
   "id": "a0df0de0",
   "metadata": {},
   "outputs": [],
   "source": []
  },
  {
   "cell_type": "code",
   "execution_count": 4,
   "id": "0bae3bbc",
   "metadata": {},
   "outputs": [],
   "source": []
  },
  {
   "cell_type": "code",
   "execution_count": null,
   "id": "a1c1155b",
   "metadata": {},
   "outputs": [],
   "source": []
  }
 ],
 "metadata": {
  "kernelspec": {
   "display_name": "Python 3 (ipykernel)",
   "language": "python",
   "name": "python3"
  },
  "language_info": {
   "codemirror_mode": {
    "name": "ipython",
    "version": 3
   },
   "file_extension": ".py",
   "mimetype": "text/x-python",
   "name": "python",
   "nbconvert_exporter": "python",
   "pygments_lexer": "ipython3",
   "version": "3.9.7"
  }
 },
 "nbformat": 4,
 "nbformat_minor": 5
}
